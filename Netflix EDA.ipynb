{
 "cells": [
  {
   "cell_type": "markdown",
   "id": "7e83acd2-6ee1-4176-9850-5d2e46067385",
   "metadata": {},
   "source": [
    "# Netflix Movies and Series EDA"
   ]
  },
  {
   "cell_type": "markdown",
   "id": "076c5aed-7fa1-4825-986d-139e771585a2",
   "metadata": {},
   "source": [
    "## Key Features\n",
    "This dataset provides comprehensive information about the movies and TV shows available on Netflix. With over 8000 listings, it serves as a valuable resource for exploratory data analysis (EDA) and insights extraction. As of mid-2021, Netflix boasts a global subscriber base exceeding 200 million, making it one of the most influential streaming platforms worldwide.\n"
   ]
  },
  {
   "cell_type": "markdown",
   "id": "36e85518-c9eb-41f6-997d-9766d8531e36",
   "metadata": {},
   "source": [
    "| **Column Name** | **Description**                                                                 |\n",
    "|------------------|-------------------------------------------------------------------------------|\n",
    "| `show_id`       | A unique identifier for each movie or TV show.                                |\n",
    "| `type`          | Specifies whether the content is a *Movie* or *TV Show*.                      |\n",
    "| `title`         | The title or name of the content.                                             |\n",
    "| `director`      | Name(s) of the director(s) of the movie or show.                              |\n",
    "| `cast`          | List of actors featured in the content.                                       |\n",
    "| `country`       | Country of origin where the content was produced.                             |\n",
    "| `date_added`    | The date the content was added to Netflix.                                    |\n",
    "| `release_year`  | The year the content was originally released.                                 |\n",
    "| `rating`        | Content rating (e.g., TV-MA, PG-13) indicating suitability for audiences.     |\n",
    "| `duration`      | Duration of movies in minutes or the number of seasons for TV shows.          |\n",
    "| `listed_in`     | Categories or genres that the content belongs to (e.g., Drama, Comedy, Action).|\n",
    "| `description`   | A brief summary or synopsis of the content.    "
   ]
  },
  {
   "cell_type": "markdown",
   "id": "6348a88d-449b-4a60-a207-ae084078001f",
   "metadata": {},
   "source": [
    "## Use Cases\n",
    "\n",
    "The Netflix dataset, which includes information on movies and TV shows such as titles, directors, cast, ratings, release years, genres, and durations, can be utilized for a wide range of use cases in **Exploratory Data Analysis (EDA)**, machine learning, and business insights. Below are some potential applications:\n",
    "\n",
    "---\n",
    "\n",
    "#### 1. Content Analysis\n",
    "   - **Objective**: Understand the composition of Netflix's library.\n",
    "   - **Insights**:\n",
    "     - Ratio of Movies vs TV Shows.\n",
    "     - Most common genres listed on Netflix.\n",
    "     - Top countries producing content available on the platform.\n",
    "\n",
    "---\n",
    "\n",
    "#### 2. Trends Over Time\n",
    "   - **Objective**: Analyze content release trends over the years.\n",
    "   - **Insights**:\n",
    "     - Identify how the volume of content (movies or TV shows) has grown over time.\n",
    "     - Observe trends in popular genres released year-wise.\n",
    "     - Analyze changes in content duration over time.\n",
    "\n",
    "---\n",
    "\n",
    "#### 3. Director and Actor Analysis\n",
    "   - **Objective**: Identify key contributors to Netflix's content.\n",
    "   - **Insights**:\n",
    "     - Top directors with the most content on Netflix.\n",
    "     - Actors who appear most frequently in Netflix's library.\n",
    "     - Collaborative trends between directors, cast, and production countries.\n",
    "\n",
    "---\n",
    "\n",
    "#### 4. Content Ratings Analysis\n",
    "   - **Objective**: Study the distribution of ratings to understand audience targeting.\n",
    "   - **Insights**:\n",
    "     - Distribution of content ratings (e.g., TV-MA, PG-13, etc.).\n",
    "     - Analyze which age groups are targeted more frequently.\n",
    "     - Trends in rating categories over time.\n",
    "\n",
    "---\n",
    "\n",
    "#### 5. Duration Analysis\n",
    "   - **Objective**: Examine movie durations and TV show lengths.\n",
    "   - **Insights**:\n",
    "     - Average duration of movies.\n",
    "     - Number of seasons in TV shows.\n",
    "     - Identify content categories (genres) with the longest or shortest durations.\n",
    "\n",
    "---\n",
    "\n",
    "#### 6. Market Expansion Insights\n",
    "   - **Objective**: Analyze Netflix's content strategy across countries.\n",
    "   - **Insights**:\n",
    "     - Countries with the highest content production on Netflix.\n",
    "     - Emerging markets for content production.\n",
    "     - Popular genres in specific countries.\n",
    "\n",
    "---\n",
    "\n",
    "#### 7. Content Recommendations (ML Use Case)\n",
    "   - **Objective**: Build a recommendation system.\n",
    "   - **Approach**:\n",
    "     - Use features like genres, directors, cast, and ratings to create personalized content recommendations for users.\n",
    "     - Apply clustering or collaborative filtering algorithms for content similarity.\n",
    "\n",
    "---\n",
    "\n",
    "#### 8. Competitor Benchmarking\n",
    "   - **Objective**: Compare Netflix's content strategy with other streaming platforms.\n",
    "   - **Insights**:\n",
    "     - Content diversity and release trends.\n",
    "     - Unique genres or formats (e.g., movies vs TV shows).\n",
    "     - Global vs regional content strategies.\n",
    "\n",
    "---\n",
    "\n",
    "#### 9. User Engagement Analysis\n",
    "   - **Objective**: Identify what content types are likely to engage users.\n",
    "   - **Approach**:\n",
    "     - Use data to hypothesize which genres, ratings, or durations attract the most viewership.\n",
    "     - Combine this dataset with user behavior data (if available).\n",
    "\n",
    "---\n",
    "\n",
    "#### 10. Predictive Analysis\n",
    "   - **Objective**: Predict future content trends.\n",
    "   - **Approach**:\n",
    "     - Use release year trends, genre popularity, and content ratings to forecast what types of movies or shows Netflix might produce more of in the future.\n",
    "     - Apply time-series analysis for better insights.\n",
    "\n",
    "---\n",
    "\n",
    "By leveraging this dataset, data analysts and businesses can gain valuable insights into Netflix's content library, enabling informed decision-making for **content strategy**, **personalization**, and **market expansion**. It also serves as a strong foundation for developing **machine learning models** such as recommendation systems and trend prediction tools.\n"
   ]
  },
  {
   "cell_type": "code",
   "execution_count": 129,
   "id": "02c0330d-5a82-4fd4-9176-13f4eb28dcea",
   "metadata": {},
   "outputs": [],
   "source": [
    "import numpy as np \n",
    "import pandas as pd \n",
    "import matplotlib.pyplot as plt\n",
    "import warnings\n",
    "import seaborn as sns"
   ]
  },
  {
   "cell_type": "code",
   "execution_count": 2,
   "id": "34afbdc0-b635-451a-8711-189d2b027185",
   "metadata": {},
   "outputs": [],
   "source": [
    "df = pd.read_csv('datasets/netflix_titles.csv')"
   ]
  },
  {
   "cell_type": "code",
   "execution_count": 3,
   "id": "d4ca8651-6053-4b5c-ad44-a9a212bd456c",
   "metadata": {},
   "outputs": [
    {
     "data": {
      "text/html": [
       "<div>\n",
       "<style scoped>\n",
       "    .dataframe tbody tr th:only-of-type {\n",
       "        vertical-align: middle;\n",
       "    }\n",
       "\n",
       "    .dataframe tbody tr th {\n",
       "        vertical-align: top;\n",
       "    }\n",
       "\n",
       "    .dataframe thead th {\n",
       "        text-align: right;\n",
       "    }\n",
       "</style>\n",
       "<table border=\"1\" class=\"dataframe\">\n",
       "  <thead>\n",
       "    <tr style=\"text-align: right;\">\n",
       "      <th></th>\n",
       "      <th>show_id</th>\n",
       "      <th>type</th>\n",
       "      <th>title</th>\n",
       "      <th>director</th>\n",
       "      <th>cast</th>\n",
       "      <th>country</th>\n",
       "      <th>date_added</th>\n",
       "      <th>release_year</th>\n",
       "      <th>rating</th>\n",
       "      <th>duration</th>\n",
       "      <th>listed_in</th>\n",
       "      <th>description</th>\n",
       "    </tr>\n",
       "  </thead>\n",
       "  <tbody>\n",
       "    <tr>\n",
       "      <th>0</th>\n",
       "      <td>s1</td>\n",
       "      <td>Movie</td>\n",
       "      <td>Dick Johnson Is Dead</td>\n",
       "      <td>Kirsten Johnson</td>\n",
       "      <td>NaN</td>\n",
       "      <td>United States</td>\n",
       "      <td>September 25, 2021</td>\n",
       "      <td>2020</td>\n",
       "      <td>PG-13</td>\n",
       "      <td>90 min</td>\n",
       "      <td>Documentaries</td>\n",
       "      <td>As her father nears the end of his life, filmm...</td>\n",
       "    </tr>\n",
       "    <tr>\n",
       "      <th>1</th>\n",
       "      <td>s2</td>\n",
       "      <td>TV Show</td>\n",
       "      <td>Blood &amp; Water</td>\n",
       "      <td>NaN</td>\n",
       "      <td>Ama Qamata, Khosi Ngema, Gail Mabalane, Thaban...</td>\n",
       "      <td>South Africa</td>\n",
       "      <td>September 24, 2021</td>\n",
       "      <td>2021</td>\n",
       "      <td>TV-MA</td>\n",
       "      <td>2 Seasons</td>\n",
       "      <td>International TV Shows, TV Dramas, TV Mysteries</td>\n",
       "      <td>After crossing paths at a party, a Cape Town t...</td>\n",
       "    </tr>\n",
       "    <tr>\n",
       "      <th>2</th>\n",
       "      <td>s3</td>\n",
       "      <td>TV Show</td>\n",
       "      <td>Ganglands</td>\n",
       "      <td>Julien Leclercq</td>\n",
       "      <td>Sami Bouajila, Tracy Gotoas, Samuel Jouy, Nabi...</td>\n",
       "      <td>NaN</td>\n",
       "      <td>September 24, 2021</td>\n",
       "      <td>2021</td>\n",
       "      <td>TV-MA</td>\n",
       "      <td>1 Season</td>\n",
       "      <td>Crime TV Shows, International TV Shows, TV Act...</td>\n",
       "      <td>To protect his family from a powerful drug lor...</td>\n",
       "    </tr>\n",
       "    <tr>\n",
       "      <th>3</th>\n",
       "      <td>s4</td>\n",
       "      <td>TV Show</td>\n",
       "      <td>Jailbirds New Orleans</td>\n",
       "      <td>NaN</td>\n",
       "      <td>NaN</td>\n",
       "      <td>NaN</td>\n",
       "      <td>September 24, 2021</td>\n",
       "      <td>2021</td>\n",
       "      <td>TV-MA</td>\n",
       "      <td>1 Season</td>\n",
       "      <td>Docuseries, Reality TV</td>\n",
       "      <td>Feuds, flirtations and toilet talk go down amo...</td>\n",
       "    </tr>\n",
       "    <tr>\n",
       "      <th>4</th>\n",
       "      <td>s5</td>\n",
       "      <td>TV Show</td>\n",
       "      <td>Kota Factory</td>\n",
       "      <td>NaN</td>\n",
       "      <td>Mayur More, Jitendra Kumar, Ranjan Raj, Alam K...</td>\n",
       "      <td>India</td>\n",
       "      <td>September 24, 2021</td>\n",
       "      <td>2021</td>\n",
       "      <td>TV-MA</td>\n",
       "      <td>2 Seasons</td>\n",
       "      <td>International TV Shows, Romantic TV Shows, TV ...</td>\n",
       "      <td>In a city of coaching centers known to train I...</td>\n",
       "    </tr>\n",
       "    <tr>\n",
       "      <th>...</th>\n",
       "      <td>...</td>\n",
       "      <td>...</td>\n",
       "      <td>...</td>\n",
       "      <td>...</td>\n",
       "      <td>...</td>\n",
       "      <td>...</td>\n",
       "      <td>...</td>\n",
       "      <td>...</td>\n",
       "      <td>...</td>\n",
       "      <td>...</td>\n",
       "      <td>...</td>\n",
       "      <td>...</td>\n",
       "    </tr>\n",
       "    <tr>\n",
       "      <th>8802</th>\n",
       "      <td>s8803</td>\n",
       "      <td>Movie</td>\n",
       "      <td>Zodiac</td>\n",
       "      <td>David Fincher</td>\n",
       "      <td>Mark Ruffalo, Jake Gyllenhaal, Robert Downey J...</td>\n",
       "      <td>United States</td>\n",
       "      <td>November 20, 2019</td>\n",
       "      <td>2007</td>\n",
       "      <td>R</td>\n",
       "      <td>158 min</td>\n",
       "      <td>Cult Movies, Dramas, Thrillers</td>\n",
       "      <td>A political cartoonist, a crime reporter and a...</td>\n",
       "    </tr>\n",
       "    <tr>\n",
       "      <th>8803</th>\n",
       "      <td>s8804</td>\n",
       "      <td>TV Show</td>\n",
       "      <td>Zombie Dumb</td>\n",
       "      <td>NaN</td>\n",
       "      <td>NaN</td>\n",
       "      <td>NaN</td>\n",
       "      <td>July 1, 2019</td>\n",
       "      <td>2018</td>\n",
       "      <td>TV-Y7</td>\n",
       "      <td>2 Seasons</td>\n",
       "      <td>Kids' TV, Korean TV Shows, TV Comedies</td>\n",
       "      <td>While living alone in a spooky town, a young g...</td>\n",
       "    </tr>\n",
       "    <tr>\n",
       "      <th>8804</th>\n",
       "      <td>s8805</td>\n",
       "      <td>Movie</td>\n",
       "      <td>Zombieland</td>\n",
       "      <td>Ruben Fleischer</td>\n",
       "      <td>Jesse Eisenberg, Woody Harrelson, Emma Stone, ...</td>\n",
       "      <td>United States</td>\n",
       "      <td>November 1, 2019</td>\n",
       "      <td>2009</td>\n",
       "      <td>R</td>\n",
       "      <td>88 min</td>\n",
       "      <td>Comedies, Horror Movies</td>\n",
       "      <td>Looking to survive in a world taken over by zo...</td>\n",
       "    </tr>\n",
       "    <tr>\n",
       "      <th>8805</th>\n",
       "      <td>s8806</td>\n",
       "      <td>Movie</td>\n",
       "      <td>Zoom</td>\n",
       "      <td>Peter Hewitt</td>\n",
       "      <td>Tim Allen, Courteney Cox, Chevy Chase, Kate Ma...</td>\n",
       "      <td>United States</td>\n",
       "      <td>January 11, 2020</td>\n",
       "      <td>2006</td>\n",
       "      <td>PG</td>\n",
       "      <td>88 min</td>\n",
       "      <td>Children &amp; Family Movies, Comedies</td>\n",
       "      <td>Dragged from civilian life, a former superhero...</td>\n",
       "    </tr>\n",
       "    <tr>\n",
       "      <th>8806</th>\n",
       "      <td>s8807</td>\n",
       "      <td>Movie</td>\n",
       "      <td>Zubaan</td>\n",
       "      <td>Mozez Singh</td>\n",
       "      <td>Vicky Kaushal, Sarah-Jane Dias, Raaghav Chanan...</td>\n",
       "      <td>India</td>\n",
       "      <td>March 2, 2019</td>\n",
       "      <td>2015</td>\n",
       "      <td>TV-14</td>\n",
       "      <td>111 min</td>\n",
       "      <td>Dramas, International Movies, Music &amp; Musicals</td>\n",
       "      <td>A scrappy but poor boy worms his way into a ty...</td>\n",
       "    </tr>\n",
       "  </tbody>\n",
       "</table>\n",
       "<p>8807 rows × 12 columns</p>\n",
       "</div>"
      ],
      "text/plain": [
       "     show_id     type                  title         director  \\\n",
       "0         s1    Movie   Dick Johnson Is Dead  Kirsten Johnson   \n",
       "1         s2  TV Show          Blood & Water              NaN   \n",
       "2         s3  TV Show              Ganglands  Julien Leclercq   \n",
       "3         s4  TV Show  Jailbirds New Orleans              NaN   \n",
       "4         s5  TV Show           Kota Factory              NaN   \n",
       "...      ...      ...                    ...              ...   \n",
       "8802   s8803    Movie                 Zodiac    David Fincher   \n",
       "8803   s8804  TV Show            Zombie Dumb              NaN   \n",
       "8804   s8805    Movie             Zombieland  Ruben Fleischer   \n",
       "8805   s8806    Movie                   Zoom     Peter Hewitt   \n",
       "8806   s8807    Movie                 Zubaan      Mozez Singh   \n",
       "\n",
       "                                                   cast        country  \\\n",
       "0                                                   NaN  United States   \n",
       "1     Ama Qamata, Khosi Ngema, Gail Mabalane, Thaban...   South Africa   \n",
       "2     Sami Bouajila, Tracy Gotoas, Samuel Jouy, Nabi...            NaN   \n",
       "3                                                   NaN            NaN   \n",
       "4     Mayur More, Jitendra Kumar, Ranjan Raj, Alam K...          India   \n",
       "...                                                 ...            ...   \n",
       "8802  Mark Ruffalo, Jake Gyllenhaal, Robert Downey J...  United States   \n",
       "8803                                                NaN            NaN   \n",
       "8804  Jesse Eisenberg, Woody Harrelson, Emma Stone, ...  United States   \n",
       "8805  Tim Allen, Courteney Cox, Chevy Chase, Kate Ma...  United States   \n",
       "8806  Vicky Kaushal, Sarah-Jane Dias, Raaghav Chanan...          India   \n",
       "\n",
       "              date_added  release_year rating   duration  \\\n",
       "0     September 25, 2021          2020  PG-13     90 min   \n",
       "1     September 24, 2021          2021  TV-MA  2 Seasons   \n",
       "2     September 24, 2021          2021  TV-MA   1 Season   \n",
       "3     September 24, 2021          2021  TV-MA   1 Season   \n",
       "4     September 24, 2021          2021  TV-MA  2 Seasons   \n",
       "...                  ...           ...    ...        ...   \n",
       "8802   November 20, 2019          2007      R    158 min   \n",
       "8803        July 1, 2019          2018  TV-Y7  2 Seasons   \n",
       "8804    November 1, 2019          2009      R     88 min   \n",
       "8805    January 11, 2020          2006     PG     88 min   \n",
       "8806       March 2, 2019          2015  TV-14    111 min   \n",
       "\n",
       "                                              listed_in  \\\n",
       "0                                         Documentaries   \n",
       "1       International TV Shows, TV Dramas, TV Mysteries   \n",
       "2     Crime TV Shows, International TV Shows, TV Act...   \n",
       "3                                Docuseries, Reality TV   \n",
       "4     International TV Shows, Romantic TV Shows, TV ...   \n",
       "...                                                 ...   \n",
       "8802                     Cult Movies, Dramas, Thrillers   \n",
       "8803             Kids' TV, Korean TV Shows, TV Comedies   \n",
       "8804                            Comedies, Horror Movies   \n",
       "8805                 Children & Family Movies, Comedies   \n",
       "8806     Dramas, International Movies, Music & Musicals   \n",
       "\n",
       "                                            description  \n",
       "0     As her father nears the end of his life, filmm...  \n",
       "1     After crossing paths at a party, a Cape Town t...  \n",
       "2     To protect his family from a powerful drug lor...  \n",
       "3     Feuds, flirtations and toilet talk go down amo...  \n",
       "4     In a city of coaching centers known to train I...  \n",
       "...                                                 ...  \n",
       "8802  A political cartoonist, a crime reporter and a...  \n",
       "8803  While living alone in a spooky town, a young g...  \n",
       "8804  Looking to survive in a world taken over by zo...  \n",
       "8805  Dragged from civilian life, a former superhero...  \n",
       "8806  A scrappy but poor boy worms his way into a ty...  \n",
       "\n",
       "[8807 rows x 12 columns]"
      ]
     },
     "execution_count": 3,
     "metadata": {},
     "output_type": "execute_result"
    }
   ],
   "source": [
    "df"
   ]
  },
  {
   "cell_type": "markdown",
   "id": "22812248-338b-4e19-9c11-e8bfc4fb65f8",
   "metadata": {},
   "source": [
    "## Data Wrangling"
   ]
  },
  {
   "cell_type": "markdown",
   "id": "7fd835a6-cdda-428d-844c-f1919e2362bd",
   "metadata": {},
   "source": [
    "### Issues with the dataset \n",
    "- The `showid` column have s1,s2,s3... instead of 1,2,3...\n",
    "- `director` contains large amount of NULL values\n",
    "- `cast` contains large amount of NULL values\n",
    "- `country` contains large amount of NULL values\n",
    "- `date_added` contains large amount of NULL values\n",
    "- `rating` contains 4 NULL values\n",
    "- `duration` contains 3 NULL values"
   ]
  },
  {
   "cell_type": "code",
   "execution_count": 4,
   "id": "d02d9f78-11f8-4598-a0c9-696a9802a9a8",
   "metadata": {},
   "outputs": [
    {
     "name": "stdout",
     "output_type": "stream",
     "text": [
      "<class 'pandas.core.frame.DataFrame'>\n",
      "RangeIndex: 8807 entries, 0 to 8806\n",
      "Data columns (total 12 columns):\n",
      " #   Column        Non-Null Count  Dtype \n",
      "---  ------        --------------  ----- \n",
      " 0   show_id       8807 non-null   object\n",
      " 1   type          8807 non-null   object\n",
      " 2   title         8807 non-null   object\n",
      " 3   director      6173 non-null   object\n",
      " 4   cast          7982 non-null   object\n",
      " 5   country       7976 non-null   object\n",
      " 6   date_added    8797 non-null   object\n",
      " 7   release_year  8807 non-null   int64 \n",
      " 8   rating        8803 non-null   object\n",
      " 9   duration      8804 non-null   object\n",
      " 10  listed_in     8807 non-null   object\n",
      " 11  description   8807 non-null   object\n",
      "dtypes: int64(1), object(11)\n",
      "memory usage: 825.8+ KB\n"
     ]
    }
   ],
   "source": [
    "df.info()"
   ]
  },
  {
   "cell_type": "markdown",
   "id": "8c21c74a-d85e-4199-9c74-efacfcf9108d",
   "metadata": {},
   "source": [
    "### How many missing (NA) values are there in each column?"
   ]
  },
  {
   "cell_type": "code",
   "execution_count": 5,
   "id": "489306c5-5159-47ee-b93e-526a6fd3566b",
   "metadata": {},
   "outputs": [
    {
     "data": {
      "text/plain": [
       "show_id            0\n",
       "type               0\n",
       "title              0\n",
       "director        2634\n",
       "cast             825\n",
       "country          831\n",
       "date_added        10\n",
       "release_year       0\n",
       "rating             4\n",
       "duration           3\n",
       "listed_in          0\n",
       "description        0\n",
       "dtype: int64"
      ]
     },
     "execution_count": 5,
     "metadata": {},
     "output_type": "execute_result"
    }
   ],
   "source": [
    "# Calculating null values in each column\n",
    "df.isnull().sum()"
   ]
  },
  {
   "cell_type": "markdown",
   "id": "c04950a1-f8b4-4458-a046-d077c959667a",
   "metadata": {},
   "source": [
    "### How many movies and TV shows are in the dataset?"
   ]
  },
  {
   "cell_type": "code",
   "execution_count": 6,
   "id": "23e30538-5e33-48b1-8326-60151fffd43c",
   "metadata": {},
   "outputs": [
    {
     "data": {
      "text/plain": [
       "type\n",
       "Movie      6131\n",
       "TV Show    2676\n",
       "Name: count, dtype: int64"
      ]
     },
     "execution_count": 6,
     "metadata": {},
     "output_type": "execute_result"
    }
   ],
   "source": [
    "df['type'].value_counts()"
   ]
  },
  {
   "cell_type": "markdown",
   "id": "0f23570f-059a-4c71-878c-09e065c630f3",
   "metadata": {},
   "source": [
    "### How many rows (titles) are there in the dataset?"
   ]
  },
  {
   "cell_type": "code",
   "execution_count": 7,
   "id": "fcab1886-1778-4f60-a060-6c2e2cafa91b",
   "metadata": {},
   "outputs": [
    {
     "data": {
      "text/plain": [
       "8807"
      ]
     },
     "execution_count": 7,
     "metadata": {},
     "output_type": "execute_result"
    }
   ],
   "source": [
    "df['title'].value_counts().sum()"
   ]
  },
  {
   "cell_type": "markdown",
   "id": "4e2da661-024e-4c78-92d2-66d67e0c9a88",
   "metadata": {},
   "source": [
    "### How many titles were released in each release_year?"
   ]
  },
  {
   "cell_type": "code",
   "execution_count": 8,
   "id": "3ca69d94-8ae0-41ba-92a0-dcaf9886a988",
   "metadata": {},
   "outputs": [
    {
     "data": {
      "text/plain": [
       "release_year\n",
       "2021     592\n",
       "2020     953\n",
       "2019    1030\n",
       "2018    1147\n",
       "2017    1032\n",
       "        ... \n",
       "1945       4\n",
       "1944       3\n",
       "1943       3\n",
       "1942       2\n",
       "1925       1\n",
       "Name: count, Length: 74, dtype: int64"
      ]
     },
     "execution_count": 8,
     "metadata": {},
     "output_type": "execute_result"
    }
   ],
   "source": [
    "df['release_year'].value_counts().sort_index(ascending=False)"
   ]
  },
  {
   "cell_type": "markdown",
   "id": "ce012b65-6771-4c7c-b024-f6414822626d",
   "metadata": {},
   "source": [
    "### How many titles belong to each rating category?\n",
    "\n"
   ]
  },
  {
   "cell_type": "code",
   "execution_count": 9,
   "id": "8eda7f58-9eb7-4e07-b05b-4149191c5497",
   "metadata": {},
   "outputs": [
    {
     "data": {
      "text/html": [
       "<div>\n",
       "<style scoped>\n",
       "    .dataframe tbody tr th:only-of-type {\n",
       "        vertical-align: middle;\n",
       "    }\n",
       "\n",
       "    .dataframe tbody tr th {\n",
       "        vertical-align: top;\n",
       "    }\n",
       "\n",
       "    .dataframe thead th {\n",
       "        text-align: right;\n",
       "    }\n",
       "</style>\n",
       "<table border=\"1\" class=\"dataframe\">\n",
       "  <thead>\n",
       "    <tr style=\"text-align: right;\">\n",
       "      <th></th>\n",
       "      <th>show_id</th>\n",
       "      <th>type</th>\n",
       "      <th>title</th>\n",
       "      <th>director</th>\n",
       "      <th>cast</th>\n",
       "      <th>country</th>\n",
       "      <th>date_added</th>\n",
       "      <th>release_year</th>\n",
       "      <th>rating</th>\n",
       "      <th>duration</th>\n",
       "      <th>listed_in</th>\n",
       "      <th>description</th>\n",
       "    </tr>\n",
       "  </thead>\n",
       "  <tbody>\n",
       "    <tr>\n",
       "      <th>0</th>\n",
       "      <td>s1</td>\n",
       "      <td>Movie</td>\n",
       "      <td>Dick Johnson Is Dead</td>\n",
       "      <td>Kirsten Johnson</td>\n",
       "      <td>NaN</td>\n",
       "      <td>United States</td>\n",
       "      <td>September 25, 2021</td>\n",
       "      <td>2020</td>\n",
       "      <td>PG-13</td>\n",
       "      <td>90 min</td>\n",
       "      <td>Documentaries</td>\n",
       "      <td>As her father nears the end of his life, filmm...</td>\n",
       "    </tr>\n",
       "    <tr>\n",
       "      <th>1</th>\n",
       "      <td>s2</td>\n",
       "      <td>TV Show</td>\n",
       "      <td>Blood &amp; Water</td>\n",
       "      <td>NaN</td>\n",
       "      <td>Ama Qamata, Khosi Ngema, Gail Mabalane, Thaban...</td>\n",
       "      <td>South Africa</td>\n",
       "      <td>September 24, 2021</td>\n",
       "      <td>2021</td>\n",
       "      <td>TV-MA</td>\n",
       "      <td>2 Seasons</td>\n",
       "      <td>International TV Shows, TV Dramas, TV Mysteries</td>\n",
       "      <td>After crossing paths at a party, a Cape Town t...</td>\n",
       "    </tr>\n",
       "    <tr>\n",
       "      <th>2</th>\n",
       "      <td>s3</td>\n",
       "      <td>TV Show</td>\n",
       "      <td>Ganglands</td>\n",
       "      <td>Julien Leclercq</td>\n",
       "      <td>Sami Bouajila, Tracy Gotoas, Samuel Jouy, Nabi...</td>\n",
       "      <td>NaN</td>\n",
       "      <td>September 24, 2021</td>\n",
       "      <td>2021</td>\n",
       "      <td>TV-MA</td>\n",
       "      <td>1 Season</td>\n",
       "      <td>Crime TV Shows, International TV Shows, TV Act...</td>\n",
       "      <td>To protect his family from a powerful drug lor...</td>\n",
       "    </tr>\n",
       "    <tr>\n",
       "      <th>3</th>\n",
       "      <td>s4</td>\n",
       "      <td>TV Show</td>\n",
       "      <td>Jailbirds New Orleans</td>\n",
       "      <td>NaN</td>\n",
       "      <td>NaN</td>\n",
       "      <td>NaN</td>\n",
       "      <td>September 24, 2021</td>\n",
       "      <td>2021</td>\n",
       "      <td>TV-MA</td>\n",
       "      <td>1 Season</td>\n",
       "      <td>Docuseries, Reality TV</td>\n",
       "      <td>Feuds, flirtations and toilet talk go down amo...</td>\n",
       "    </tr>\n",
       "    <tr>\n",
       "      <th>4</th>\n",
       "      <td>s5</td>\n",
       "      <td>TV Show</td>\n",
       "      <td>Kota Factory</td>\n",
       "      <td>NaN</td>\n",
       "      <td>Mayur More, Jitendra Kumar, Ranjan Raj, Alam K...</td>\n",
       "      <td>India</td>\n",
       "      <td>September 24, 2021</td>\n",
       "      <td>2021</td>\n",
       "      <td>TV-MA</td>\n",
       "      <td>2 Seasons</td>\n",
       "      <td>International TV Shows, Romantic TV Shows, TV ...</td>\n",
       "      <td>In a city of coaching centers known to train I...</td>\n",
       "    </tr>\n",
       "    <tr>\n",
       "      <th>...</th>\n",
       "      <td>...</td>\n",
       "      <td>...</td>\n",
       "      <td>...</td>\n",
       "      <td>...</td>\n",
       "      <td>...</td>\n",
       "      <td>...</td>\n",
       "      <td>...</td>\n",
       "      <td>...</td>\n",
       "      <td>...</td>\n",
       "      <td>...</td>\n",
       "      <td>...</td>\n",
       "      <td>...</td>\n",
       "    </tr>\n",
       "    <tr>\n",
       "      <th>8802</th>\n",
       "      <td>s8803</td>\n",
       "      <td>Movie</td>\n",
       "      <td>Zodiac</td>\n",
       "      <td>David Fincher</td>\n",
       "      <td>Mark Ruffalo, Jake Gyllenhaal, Robert Downey J...</td>\n",
       "      <td>United States</td>\n",
       "      <td>November 20, 2019</td>\n",
       "      <td>2007</td>\n",
       "      <td>R</td>\n",
       "      <td>158 min</td>\n",
       "      <td>Cult Movies, Dramas, Thrillers</td>\n",
       "      <td>A political cartoonist, a crime reporter and a...</td>\n",
       "    </tr>\n",
       "    <tr>\n",
       "      <th>8803</th>\n",
       "      <td>s8804</td>\n",
       "      <td>TV Show</td>\n",
       "      <td>Zombie Dumb</td>\n",
       "      <td>NaN</td>\n",
       "      <td>NaN</td>\n",
       "      <td>NaN</td>\n",
       "      <td>July 1, 2019</td>\n",
       "      <td>2018</td>\n",
       "      <td>TV-Y7</td>\n",
       "      <td>2 Seasons</td>\n",
       "      <td>Kids' TV, Korean TV Shows, TV Comedies</td>\n",
       "      <td>While living alone in a spooky town, a young g...</td>\n",
       "    </tr>\n",
       "    <tr>\n",
       "      <th>8804</th>\n",
       "      <td>s8805</td>\n",
       "      <td>Movie</td>\n",
       "      <td>Zombieland</td>\n",
       "      <td>Ruben Fleischer</td>\n",
       "      <td>Jesse Eisenberg, Woody Harrelson, Emma Stone, ...</td>\n",
       "      <td>United States</td>\n",
       "      <td>November 1, 2019</td>\n",
       "      <td>2009</td>\n",
       "      <td>R</td>\n",
       "      <td>88 min</td>\n",
       "      <td>Comedies, Horror Movies</td>\n",
       "      <td>Looking to survive in a world taken over by zo...</td>\n",
       "    </tr>\n",
       "    <tr>\n",
       "      <th>8805</th>\n",
       "      <td>s8806</td>\n",
       "      <td>Movie</td>\n",
       "      <td>Zoom</td>\n",
       "      <td>Peter Hewitt</td>\n",
       "      <td>Tim Allen, Courteney Cox, Chevy Chase, Kate Ma...</td>\n",
       "      <td>United States</td>\n",
       "      <td>January 11, 2020</td>\n",
       "      <td>2006</td>\n",
       "      <td>PG</td>\n",
       "      <td>88 min</td>\n",
       "      <td>Children &amp; Family Movies, Comedies</td>\n",
       "      <td>Dragged from civilian life, a former superhero...</td>\n",
       "    </tr>\n",
       "    <tr>\n",
       "      <th>8806</th>\n",
       "      <td>s8807</td>\n",
       "      <td>Movie</td>\n",
       "      <td>Zubaan</td>\n",
       "      <td>Mozez Singh</td>\n",
       "      <td>Vicky Kaushal, Sarah-Jane Dias, Raaghav Chanan...</td>\n",
       "      <td>India</td>\n",
       "      <td>March 2, 2019</td>\n",
       "      <td>2015</td>\n",
       "      <td>TV-14</td>\n",
       "      <td>111 min</td>\n",
       "      <td>Dramas, International Movies, Music &amp; Musicals</td>\n",
       "      <td>A scrappy but poor boy worms his way into a ty...</td>\n",
       "    </tr>\n",
       "  </tbody>\n",
       "</table>\n",
       "<p>8807 rows × 12 columns</p>\n",
       "</div>"
      ],
      "text/plain": [
       "     show_id     type                  title         director  \\\n",
       "0         s1    Movie   Dick Johnson Is Dead  Kirsten Johnson   \n",
       "1         s2  TV Show          Blood & Water              NaN   \n",
       "2         s3  TV Show              Ganglands  Julien Leclercq   \n",
       "3         s4  TV Show  Jailbirds New Orleans              NaN   \n",
       "4         s5  TV Show           Kota Factory              NaN   \n",
       "...      ...      ...                    ...              ...   \n",
       "8802   s8803    Movie                 Zodiac    David Fincher   \n",
       "8803   s8804  TV Show            Zombie Dumb              NaN   \n",
       "8804   s8805    Movie             Zombieland  Ruben Fleischer   \n",
       "8805   s8806    Movie                   Zoom     Peter Hewitt   \n",
       "8806   s8807    Movie                 Zubaan      Mozez Singh   \n",
       "\n",
       "                                                   cast        country  \\\n",
       "0                                                   NaN  United States   \n",
       "1     Ama Qamata, Khosi Ngema, Gail Mabalane, Thaban...   South Africa   \n",
       "2     Sami Bouajila, Tracy Gotoas, Samuel Jouy, Nabi...            NaN   \n",
       "3                                                   NaN            NaN   \n",
       "4     Mayur More, Jitendra Kumar, Ranjan Raj, Alam K...          India   \n",
       "...                                                 ...            ...   \n",
       "8802  Mark Ruffalo, Jake Gyllenhaal, Robert Downey J...  United States   \n",
       "8803                                                NaN            NaN   \n",
       "8804  Jesse Eisenberg, Woody Harrelson, Emma Stone, ...  United States   \n",
       "8805  Tim Allen, Courteney Cox, Chevy Chase, Kate Ma...  United States   \n",
       "8806  Vicky Kaushal, Sarah-Jane Dias, Raaghav Chanan...          India   \n",
       "\n",
       "              date_added  release_year rating   duration  \\\n",
       "0     September 25, 2021          2020  PG-13     90 min   \n",
       "1     September 24, 2021          2021  TV-MA  2 Seasons   \n",
       "2     September 24, 2021          2021  TV-MA   1 Season   \n",
       "3     September 24, 2021          2021  TV-MA   1 Season   \n",
       "4     September 24, 2021          2021  TV-MA  2 Seasons   \n",
       "...                  ...           ...    ...        ...   \n",
       "8802   November 20, 2019          2007      R    158 min   \n",
       "8803        July 1, 2019          2018  TV-Y7  2 Seasons   \n",
       "8804    November 1, 2019          2009      R     88 min   \n",
       "8805    January 11, 2020          2006     PG     88 min   \n",
       "8806       March 2, 2019          2015  TV-14    111 min   \n",
       "\n",
       "                                              listed_in  \\\n",
       "0                                         Documentaries   \n",
       "1       International TV Shows, TV Dramas, TV Mysteries   \n",
       "2     Crime TV Shows, International TV Shows, TV Act...   \n",
       "3                                Docuseries, Reality TV   \n",
       "4     International TV Shows, Romantic TV Shows, TV ...   \n",
       "...                                                 ...   \n",
       "8802                     Cult Movies, Dramas, Thrillers   \n",
       "8803             Kids' TV, Korean TV Shows, TV Comedies   \n",
       "8804                            Comedies, Horror Movies   \n",
       "8805                 Children & Family Movies, Comedies   \n",
       "8806     Dramas, International Movies, Music & Musicals   \n",
       "\n",
       "                                            description  \n",
       "0     As her father nears the end of his life, filmm...  \n",
       "1     After crossing paths at a party, a Cape Town t...  \n",
       "2     To protect his family from a powerful drug lor...  \n",
       "3     Feuds, flirtations and toilet talk go down amo...  \n",
       "4     In a city of coaching centers known to train I...  \n",
       "...                                                 ...  \n",
       "8802  A political cartoonist, a crime reporter and a...  \n",
       "8803  While living alone in a spooky town, a young g...  \n",
       "8804  Looking to survive in a world taken over by zo...  \n",
       "8805  Dragged from civilian life, a former superhero...  \n",
       "8806  A scrappy but poor boy worms his way into a ty...  \n",
       "\n",
       "[8807 rows x 12 columns]"
      ]
     },
     "execution_count": 9,
     "metadata": {},
     "output_type": "execute_result"
    }
   ],
   "source": [
    "df"
   ]
  },
  {
   "cell_type": "code",
   "execution_count": 10,
   "id": "6b9956ce-fa9e-47b5-bc3c-34c0de9495b1",
   "metadata": {},
   "outputs": [
    {
     "data": {
      "text/plain": [
       "rating\n",
       "TV-MA       3207\n",
       "TV-14       2160\n",
       "TV-PG        863\n",
       "R            799\n",
       "PG-13        490\n",
       "TV-Y7        334\n",
       "TV-Y         307\n",
       "PG           287\n",
       "TV-G         220\n",
       "NR            80\n",
       "G             41\n",
       "TV-Y7-FV       6\n",
       "NC-17          3\n",
       "UR             3\n",
       "74 min         1\n",
       "84 min         1\n",
       "66 min         1\n",
       "Name: count, dtype: int64"
      ]
     },
     "execution_count": 10,
     "metadata": {},
     "output_type": "execute_result"
    }
   ],
   "source": [
    "df['rating'].value_counts().sort_values(ascending=False)"
   ]
  },
  {
   "cell_type": "markdown",
   "id": "d17af11d-bf5c-4305-91d6-3dd69f066e92",
   "metadata": {},
   "source": [
    "### Identify ratings that occur less than 5 times and group them into a new category, such as \"Other\"."
   ]
  },
  {
   "cell_type": "code",
   "execution_count": 11,
   "id": "0e9d9702-a685-4fd8-a2e3-fa7011646a25",
   "metadata": {},
   "outputs": [
    {
     "name": "stdout",
     "output_type": "stream",
     "text": [
      "rating\n",
      "TV-MA       3207\n",
      "TV-14       2160\n",
      "TV-PG        863\n",
      "R            799\n",
      "PG-13        490\n",
      "TV-Y7        334\n",
      "TV-Y         307\n",
      "PG           287\n",
      "TV-G         220\n",
      "NR            80\n",
      "G             41\n",
      "Other          9\n",
      "TV-Y7-FV       6\n",
      "Name: count, dtype: int64\n"
     ]
    }
   ],
   "source": [
    "rating_counts = df['rating'].value_counts()\n",
    "rare_ratings = rating_counts[rating_counts < 5].index\n",
    "df['rating'] = df['rating'].replace(rare_ratings, 'Other')\n",
    "updated_ratings = df['rating'].value_counts()\n",
    "\n",
    "print(updated_ratings)"
   ]
  },
  {
   "cell_type": "markdown",
   "id": "0209ac38-0c9e-42c9-8fa3-edc132f49e91",
   "metadata": {},
   "source": [
    "## Data Cleaning"
   ]
  },
  {
   "cell_type": "markdown",
   "id": "1dd4eb78-bce4-4df7-9151-33809291bc8d",
   "metadata": {},
   "source": [
    "### For entries with missing date_added, replace them with the earliest date in the dataset"
   ]
  },
  {
   "cell_type": "code",
   "execution_count": 12,
   "id": "4abcaf43-e7b6-4491-9b8d-7d4bb7b8149a",
   "metadata": {},
   "outputs": [],
   "source": [
    "# converting date_added into date datatype\n",
    "df['date_added'] = df['date_added'].str.strip()\n",
    "df['date_added'] = pd.to_datetime(df['date_added'], format='%B %d, %Y',errors='coerce')"
   ]
  },
  {
   "cell_type": "code",
   "execution_count": 13,
   "id": "9c5c7a26-8d29-40a6-a81a-124ad75330cb",
   "metadata": {},
   "outputs": [],
   "source": [
    "# initial_date = df['date_added'].sort_values().iloc[0]\n",
    "\n",
    "# alter and better\n",
    "\n",
    "initial_date = df['date_added'].min()"
   ]
  },
  {
   "cell_type": "code",
   "execution_count": 18,
   "id": "eb80a46d-da24-492d-98db-5bc48e903848",
   "metadata": {},
   "outputs": [],
   "source": [
    "df['date_added'] = df['date_added'].fillna(initial_date)"
   ]
  },
  {
   "cell_type": "markdown",
   "id": "2f370162-03b6-4a9e-836e-15c82f3a78bc",
   "metadata": {},
   "source": [
    "### Identify the columns with missing values and replace them with appropriate values (e.g., mean, median, mode, or a placeholder like \"Unknown\").\n",
    "\n"
   ]
  },
  {
   "cell_type": "code",
   "execution_count": 42,
   "id": "b047d856-22b1-4b59-8d06-d6980c15d3b2",
   "metadata": {},
   "outputs": [
    {
     "data": {
      "text/plain": [
       "show_id         0\n",
       "type            0\n",
       "title           0\n",
       "director        0\n",
       "cast            0\n",
       "country         0\n",
       "date_added      0\n",
       "release_year    0\n",
       "rating          0\n",
       "duration        0\n",
       "listed_in       0\n",
       "description     0\n",
       "dtype: int64"
      ]
     },
     "execution_count": 42,
     "metadata": {},
     "output_type": "execute_result"
    }
   ],
   "source": [
    "df.isnull().sum()"
   ]
  },
  {
   "cell_type": "code",
   "execution_count": 43,
   "id": "075b1af4-8274-4f45-b948-0fbebe59501a",
   "metadata": {},
   "outputs": [
    {
     "name": "stdout",
     "output_type": "stream",
     "text": [
      "<class 'pandas.core.frame.DataFrame'>\n",
      "RangeIndex: 8807 entries, 0 to 8806\n",
      "Data columns (total 12 columns):\n",
      " #   Column        Non-Null Count  Dtype         \n",
      "---  ------        --------------  -----         \n",
      " 0   show_id       8807 non-null   object        \n",
      " 1   type          8807 non-null   object        \n",
      " 2   title         8807 non-null   object        \n",
      " 3   director      8807 non-null   object        \n",
      " 4   cast          8807 non-null   object        \n",
      " 5   country       8807 non-null   object        \n",
      " 6   date_added    8807 non-null   datetime64[ns]\n",
      " 7   release_year  8807 non-null   int64         \n",
      " 8   rating        8807 non-null   object        \n",
      " 9   duration      8807 non-null   object        \n",
      " 10  listed_in     8807 non-null   object        \n",
      " 11  description   8807 non-null   object        \n",
      "dtypes: datetime64[ns](1), int64(1), object(10)\n",
      "memory usage: 825.8+ KB\n"
     ]
    }
   ],
   "source": [
    "df.info()"
   ]
  },
  {
   "cell_type": "code",
   "execution_count": 44,
   "id": "b5bd3391-4c66-4edc-b3a8-efa46f40e7b6",
   "metadata": {},
   "outputs": [],
   "source": [
    "warnings.filterwarnings(\"ignore\", category=FutureWarning)\n",
    "\n",
    "df['director'].fillna(value = 'Unknown',inplace=True)\n",
    "df['cast'].fillna(value = 'Unknown',inplace=True)\n",
    "df['country'].fillna(value = 'Unknown',inplace=True)\n",
    "df['rating'].fillna(value = 'Unknown',inplace=True)\n",
    "df['duration'].fillna(value = 'Unknown',inplace=True)"
   ]
  },
  {
   "cell_type": "markdown",
   "id": "2e10445c-71ab-44e0-a148-e5b9b7d57796",
   "metadata": {},
   "source": [
    "### Extract numeric values from the duration column (e.g., \"90 min\" → 90) and store them in a new column as integers. Form column for Seasons and Store the integer values"
   ]
  },
  {
   "cell_type": "code",
   "execution_count": 68,
   "id": "346f3943-a200-491b-a404-487391e2998f",
   "metadata": {},
   "outputs": [],
   "source": [
    "df['movie_duration'] = df['duration'].apply(lambda x: int(x.split()[0]) if 'min' in x else None)\n",
    "df['num_seasons'] = df['duration'].apply(lambda x: int(x.split()[0]) if 'Season' in x else None)"
   ]
  },
  {
   "cell_type": "code",
   "execution_count": 71,
   "id": "0f168a83-8f35-42ed-ac0f-8c8a5006f2d1",
   "metadata": {},
   "outputs": [],
   "source": [
    "df.drop(columns=['minutes_duration','duration'],inplace=True)"
   ]
  },
  {
   "cell_type": "code",
   "execution_count": 121,
   "id": "de6de57d-b622-4c60-b52d-5e0596d2d093",
   "metadata": {},
   "outputs": [],
   "source": [
    "mean_duration = df['movie_duration'].mean()\n",
    "df['movie_duration'].fillna(value=mean_duration,inplace=True)"
   ]
  },
  {
   "cell_type": "code",
   "execution_count": 122,
   "id": "ce62495a-27f2-4d77-ba91-b024234a9bb1",
   "metadata": {},
   "outputs": [],
   "source": [
    "df['num_seasons'].fillna(value=0,inplace=True)"
   ]
  },
  {
   "cell_type": "code",
   "execution_count": 123,
   "id": "f7a38444-c4bf-4b28-a916-70d2f8fbfc38",
   "metadata": {},
   "outputs": [
    {
     "data": {
      "text/html": [
       "<div>\n",
       "<style scoped>\n",
       "    .dataframe tbody tr th:only-of-type {\n",
       "        vertical-align: middle;\n",
       "    }\n",
       "\n",
       "    .dataframe tbody tr th {\n",
       "        vertical-align: top;\n",
       "    }\n",
       "\n",
       "    .dataframe thead th {\n",
       "        text-align: right;\n",
       "    }\n",
       "</style>\n",
       "<table border=\"1\" class=\"dataframe\">\n",
       "  <thead>\n",
       "    <tr style=\"text-align: right;\">\n",
       "      <th></th>\n",
       "      <th>show_id</th>\n",
       "      <th>type</th>\n",
       "      <th>title</th>\n",
       "      <th>director</th>\n",
       "      <th>cast</th>\n",
       "      <th>country</th>\n",
       "      <th>date_added</th>\n",
       "      <th>release_year</th>\n",
       "      <th>rating</th>\n",
       "      <th>listed_in</th>\n",
       "      <th>description</th>\n",
       "      <th>movie_duration</th>\n",
       "      <th>num_seasons</th>\n",
       "    </tr>\n",
       "  </thead>\n",
       "  <tbody>\n",
       "    <tr>\n",
       "      <th>0</th>\n",
       "      <td>s1</td>\n",
       "      <td>Movie</td>\n",
       "      <td>Dick Johnson Is Dead</td>\n",
       "      <td>Kirsten Johnson</td>\n",
       "      <td>Unknown</td>\n",
       "      <td>Usa</td>\n",
       "      <td>2021-09-25</td>\n",
       "      <td>2020</td>\n",
       "      <td>PG-13</td>\n",
       "      <td>Documentaries</td>\n",
       "      <td>As her father nears the end of his life, filmm...</td>\n",
       "      <td>90.000000</td>\n",
       "      <td>0.0</td>\n",
       "    </tr>\n",
       "    <tr>\n",
       "      <th>1</th>\n",
       "      <td>s2</td>\n",
       "      <td>TV Show</td>\n",
       "      <td>Blood &amp; Water</td>\n",
       "      <td>Unknown</td>\n",
       "      <td>Ama Qamata, Khosi Ngema, Gail Mabalane, Thaban...</td>\n",
       "      <td>South Africa</td>\n",
       "      <td>2021-09-24</td>\n",
       "      <td>2021</td>\n",
       "      <td>TV-MA</td>\n",
       "      <td>International TV Shows, TV Dramas, TV Mysteries</td>\n",
       "      <td>After crossing paths at a party, a Cape Town t...</td>\n",
       "      <td>99.577187</td>\n",
       "      <td>2.0</td>\n",
       "    </tr>\n",
       "    <tr>\n",
       "      <th>2</th>\n",
       "      <td>s3</td>\n",
       "      <td>TV Show</td>\n",
       "      <td>Ganglands</td>\n",
       "      <td>Julien Leclercq</td>\n",
       "      <td>Sami Bouajila, Tracy Gotoas, Samuel Jouy, Nabi...</td>\n",
       "      <td>Unknown</td>\n",
       "      <td>2021-09-24</td>\n",
       "      <td>2021</td>\n",
       "      <td>TV-MA</td>\n",
       "      <td>Crime TV Shows, International TV Shows, TV Act...</td>\n",
       "      <td>To protect his family from a powerful drug lor...</td>\n",
       "      <td>99.577187</td>\n",
       "      <td>1.0</td>\n",
       "    </tr>\n",
       "    <tr>\n",
       "      <th>3</th>\n",
       "      <td>s4</td>\n",
       "      <td>TV Show</td>\n",
       "      <td>Jailbirds New Orleans</td>\n",
       "      <td>Unknown</td>\n",
       "      <td>Unknown</td>\n",
       "      <td>Unknown</td>\n",
       "      <td>2021-09-24</td>\n",
       "      <td>2021</td>\n",
       "      <td>TV-MA</td>\n",
       "      <td>Docuseries, Reality TV</td>\n",
       "      <td>Feuds, flirtations and toilet talk go down amo...</td>\n",
       "      <td>99.577187</td>\n",
       "      <td>1.0</td>\n",
       "    </tr>\n",
       "    <tr>\n",
       "      <th>4</th>\n",
       "      <td>s5</td>\n",
       "      <td>TV Show</td>\n",
       "      <td>Kota Factory</td>\n",
       "      <td>Unknown</td>\n",
       "      <td>Mayur More, Jitendra Kumar, Ranjan Raj, Alam K...</td>\n",
       "      <td>India</td>\n",
       "      <td>2021-09-24</td>\n",
       "      <td>2021</td>\n",
       "      <td>TV-MA</td>\n",
       "      <td>International TV Shows, Romantic TV Shows, TV ...</td>\n",
       "      <td>In a city of coaching centers known to train I...</td>\n",
       "      <td>99.577187</td>\n",
       "      <td>2.0</td>\n",
       "    </tr>\n",
       "    <tr>\n",
       "      <th>...</th>\n",
       "      <td>...</td>\n",
       "      <td>...</td>\n",
       "      <td>...</td>\n",
       "      <td>...</td>\n",
       "      <td>...</td>\n",
       "      <td>...</td>\n",
       "      <td>...</td>\n",
       "      <td>...</td>\n",
       "      <td>...</td>\n",
       "      <td>...</td>\n",
       "      <td>...</td>\n",
       "      <td>...</td>\n",
       "      <td>...</td>\n",
       "    </tr>\n",
       "    <tr>\n",
       "      <th>8802</th>\n",
       "      <td>s8803</td>\n",
       "      <td>Movie</td>\n",
       "      <td>Zodiac</td>\n",
       "      <td>David Fincher</td>\n",
       "      <td>Mark Ruffalo, Jake Gyllenhaal, Robert Downey J...</td>\n",
       "      <td>Usa</td>\n",
       "      <td>2019-11-20</td>\n",
       "      <td>2007</td>\n",
       "      <td>R</td>\n",
       "      <td>Cult Movies, Dramas, Thrillers</td>\n",
       "      <td>A political cartoonist, a crime reporter and a...</td>\n",
       "      <td>158.000000</td>\n",
       "      <td>0.0</td>\n",
       "    </tr>\n",
       "    <tr>\n",
       "      <th>8803</th>\n",
       "      <td>s8804</td>\n",
       "      <td>TV Show</td>\n",
       "      <td>Zombie Dumb</td>\n",
       "      <td>Unknown</td>\n",
       "      <td>Unknown</td>\n",
       "      <td>Unknown</td>\n",
       "      <td>2019-07-01</td>\n",
       "      <td>2018</td>\n",
       "      <td>TV-Y7</td>\n",
       "      <td>Kids' TV, Korean TV Shows, TV Comedies</td>\n",
       "      <td>While living alone in a spooky town, a young g...</td>\n",
       "      <td>99.577187</td>\n",
       "      <td>2.0</td>\n",
       "    </tr>\n",
       "    <tr>\n",
       "      <th>8804</th>\n",
       "      <td>s8805</td>\n",
       "      <td>Movie</td>\n",
       "      <td>Zombieland</td>\n",
       "      <td>Ruben Fleischer</td>\n",
       "      <td>Jesse Eisenberg, Woody Harrelson, Emma Stone, ...</td>\n",
       "      <td>Usa</td>\n",
       "      <td>2019-11-01</td>\n",
       "      <td>2009</td>\n",
       "      <td>R</td>\n",
       "      <td>Comedies, Horror Movies</td>\n",
       "      <td>Looking to survive in a world taken over by zo...</td>\n",
       "      <td>88.000000</td>\n",
       "      <td>0.0</td>\n",
       "    </tr>\n",
       "    <tr>\n",
       "      <th>8805</th>\n",
       "      <td>s8806</td>\n",
       "      <td>Movie</td>\n",
       "      <td>Zoom</td>\n",
       "      <td>Peter Hewitt</td>\n",
       "      <td>Tim Allen, Courteney Cox, Chevy Chase, Kate Ma...</td>\n",
       "      <td>Usa</td>\n",
       "      <td>2020-01-11</td>\n",
       "      <td>2006</td>\n",
       "      <td>PG</td>\n",
       "      <td>Children &amp; Family Movies, Comedies</td>\n",
       "      <td>Dragged from civilian life, a former superhero...</td>\n",
       "      <td>88.000000</td>\n",
       "      <td>0.0</td>\n",
       "    </tr>\n",
       "    <tr>\n",
       "      <th>8806</th>\n",
       "      <td>s8807</td>\n",
       "      <td>Movie</td>\n",
       "      <td>Zubaan</td>\n",
       "      <td>Mozez Singh</td>\n",
       "      <td>Vicky Kaushal, Sarah-Jane Dias, Raaghav Chanan...</td>\n",
       "      <td>India</td>\n",
       "      <td>2019-03-02</td>\n",
       "      <td>2015</td>\n",
       "      <td>TV-14</td>\n",
       "      <td>Dramas, International Movies, Music &amp; Musicals</td>\n",
       "      <td>A scrappy but poor boy worms his way into a ty...</td>\n",
       "      <td>111.000000</td>\n",
       "      <td>0.0</td>\n",
       "    </tr>\n",
       "  </tbody>\n",
       "</table>\n",
       "<p>8807 rows × 13 columns</p>\n",
       "</div>"
      ],
      "text/plain": [
       "     show_id     type                  title         director  \\\n",
       "0         s1    Movie   Dick Johnson Is Dead  Kirsten Johnson   \n",
       "1         s2  TV Show          Blood & Water          Unknown   \n",
       "2         s3  TV Show              Ganglands  Julien Leclercq   \n",
       "3         s4  TV Show  Jailbirds New Orleans          Unknown   \n",
       "4         s5  TV Show           Kota Factory          Unknown   \n",
       "...      ...      ...                    ...              ...   \n",
       "8802   s8803    Movie                 Zodiac    David Fincher   \n",
       "8803   s8804  TV Show            Zombie Dumb          Unknown   \n",
       "8804   s8805    Movie             Zombieland  Ruben Fleischer   \n",
       "8805   s8806    Movie                   Zoom     Peter Hewitt   \n",
       "8806   s8807    Movie                 Zubaan      Mozez Singh   \n",
       "\n",
       "                                                   cast       country  \\\n",
       "0                                               Unknown           Usa   \n",
       "1     Ama Qamata, Khosi Ngema, Gail Mabalane, Thaban...  South Africa   \n",
       "2     Sami Bouajila, Tracy Gotoas, Samuel Jouy, Nabi...       Unknown   \n",
       "3                                               Unknown       Unknown   \n",
       "4     Mayur More, Jitendra Kumar, Ranjan Raj, Alam K...         India   \n",
       "...                                                 ...           ...   \n",
       "8802  Mark Ruffalo, Jake Gyllenhaal, Robert Downey J...           Usa   \n",
       "8803                                            Unknown       Unknown   \n",
       "8804  Jesse Eisenberg, Woody Harrelson, Emma Stone, ...           Usa   \n",
       "8805  Tim Allen, Courteney Cox, Chevy Chase, Kate Ma...           Usa   \n",
       "8806  Vicky Kaushal, Sarah-Jane Dias, Raaghav Chanan...         India   \n",
       "\n",
       "     date_added  release_year rating  \\\n",
       "0    2021-09-25          2020  PG-13   \n",
       "1    2021-09-24          2021  TV-MA   \n",
       "2    2021-09-24          2021  TV-MA   \n",
       "3    2021-09-24          2021  TV-MA   \n",
       "4    2021-09-24          2021  TV-MA   \n",
       "...         ...           ...    ...   \n",
       "8802 2019-11-20          2007      R   \n",
       "8803 2019-07-01          2018  TV-Y7   \n",
       "8804 2019-11-01          2009      R   \n",
       "8805 2020-01-11          2006     PG   \n",
       "8806 2019-03-02          2015  TV-14   \n",
       "\n",
       "                                              listed_in  \\\n",
       "0                                         Documentaries   \n",
       "1       International TV Shows, TV Dramas, TV Mysteries   \n",
       "2     Crime TV Shows, International TV Shows, TV Act...   \n",
       "3                                Docuseries, Reality TV   \n",
       "4     International TV Shows, Romantic TV Shows, TV ...   \n",
       "...                                                 ...   \n",
       "8802                     Cult Movies, Dramas, Thrillers   \n",
       "8803             Kids' TV, Korean TV Shows, TV Comedies   \n",
       "8804                            Comedies, Horror Movies   \n",
       "8805                 Children & Family Movies, Comedies   \n",
       "8806     Dramas, International Movies, Music & Musicals   \n",
       "\n",
       "                                            description  movie_duration  \\\n",
       "0     As her father nears the end of his life, filmm...       90.000000   \n",
       "1     After crossing paths at a party, a Cape Town t...       99.577187   \n",
       "2     To protect his family from a powerful drug lor...       99.577187   \n",
       "3     Feuds, flirtations and toilet talk go down amo...       99.577187   \n",
       "4     In a city of coaching centers known to train I...       99.577187   \n",
       "...                                                 ...             ...   \n",
       "8802  A political cartoonist, a crime reporter and a...      158.000000   \n",
       "8803  While living alone in a spooky town, a young g...       99.577187   \n",
       "8804  Looking to survive in a world taken over by zo...       88.000000   \n",
       "8805  Dragged from civilian life, a former superhero...       88.000000   \n",
       "8806  A scrappy but poor boy worms his way into a ty...      111.000000   \n",
       "\n",
       "      num_seasons  \n",
       "0             0.0  \n",
       "1             2.0  \n",
       "2             1.0  \n",
       "3             1.0  \n",
       "4             2.0  \n",
       "...           ...  \n",
       "8802          0.0  \n",
       "8803          2.0  \n",
       "8804          0.0  \n",
       "8805          0.0  \n",
       "8806          0.0  \n",
       "\n",
       "[8807 rows x 13 columns]"
      ]
     },
     "execution_count": 123,
     "metadata": {},
     "output_type": "execute_result"
    }
   ],
   "source": [
    "df"
   ]
  },
  {
   "cell_type": "markdown",
   "id": "44a897de-be10-47a6-b959-81b91f10ddd2",
   "metadata": {},
   "source": [
    "### Standardize the case of text data in the title to title case (e.g., breaking bad → Breaking Bad)."
   ]
  },
  {
   "cell_type": "code",
   "execution_count": 117,
   "id": "9683a563-c3ad-4843-9304-a367d6efdf6d",
   "metadata": {},
   "outputs": [],
   "source": [
    "df['title']=df['title'].str.title()"
   ]
  },
  {
   "cell_type": "markdown",
   "id": "58b7acc2-e4e4-4737-8faa-579a032032a9",
   "metadata": {},
   "source": [
    "### Normalisation: Normalize country names by ensuring consistent naming (e.g., US, U.S., United States → USA)."
   ]
  },
  {
   "cell_type": "code",
   "execution_count": 119,
   "id": "acc58119-4bcd-4344-9cfd-4ab0987f458c",
   "metadata": {},
   "outputs": [],
   "source": [
    "df['country'] = (\n",
    "    df['country']\n",
    "    .str.lower()  # Convert all to lowercase for consistency\n",
    "    .str.replace(r'\\b(u\\.?s\\.?|united states)\\b', 'USA', regex=True)\n",
    "    .str.replace(r'\\b(united kingdom|u\\.k\\.)\\b', 'UK', regex=True)\n",
    "    .str.replace(r'\\buae\\b', 'UAE', regex=True)\n",
    "    .str.title()  # Convert back to title case (if needed)\n",
    ")"
   ]
  },
  {
   "cell_type": "markdown",
   "id": "0fd824fb-7f82-4fcd-99d8-0c56aa9f4f88",
   "metadata": {},
   "source": [
    "## Data Visualisation"
   ]
  },
  {
   "cell_type": "markdown",
   "id": "716d5871-1899-48bd-8304-73c5c7109d10",
   "metadata": {},
   "source": [
    "### Visualize the distribution of Movies and TV Shows."
   ]
  },
  {
   "cell_type": "code",
   "execution_count": 143,
   "id": "110a209f-a8a2-44c7-9d82-1be40bc97a3a",
   "metadata": {},
   "outputs": [
    {
     "data": {
      "image/png": "[encoded data removed]",
      "text/plain": [
       "<Figure size 500x500 with 1 Axes>"
      ]
     },
     "metadata": {},
     "output_type": "display_data"
    }
   ],
   "source": [
    "df['type'].value_counts()\n",
    "\n",
    "fig = sns.catplot(kind='count',data=df,x='type',hue='type')\n",
    "ax = fig.ax\n",
    "plt.xlabel('Type')\n",
    "plt.ylabel('Count')\n",
    "plt.title('Count Of Movies And TV Shows')\n",
    "\n",
    "for container in ax.containers:\n",
    "    ax.bar_label(container)\n",
    "\n",
    "plt.show()"
   ]
  },
  {
   "cell_type": "markdown",
   "id": "a537b709-e2a6-4434-a3e5-5946e58e94b0",
   "metadata": {},
   "source": [
    "- the following graph shows that the Netflix dataset contains a larger amount of movies than TV shows\n",
    "- There are 6131 Movies and 2676 TV shows "
   ]
  },
  {
   "cell_type": "code",
   "execution_count": 144,
   "id": "f695ed29-0348-412e-938e-0cc0f92ef65f",
   "metadata": {},
   "outputs": [
    {
     "data": {
      "image/png": "[encoded data removed]",
      "text/plain": [
       "<Figure size 640x480 with 1 Axes>"
      ]
     },
     "metadata": {},
     "output_type": "display_data"
    }
   ],
   "source": [
    "# Donut chart\n",
    "distribution = df['type'].value_counts()\n",
    "plt.pie(distribution, labels=distribution.index, autopct='%1.1f%%', colors=['gold', 'teal'], startangle=90, wedgeprops=dict(width=0.3))\n",
    "plt.title('Proportion Of Movies And TV Shows')\n",
    "plt.show()"
   ]
  },
  {
   "cell_type": "markdown",
   "id": "fca1b8fe-7c75-4702-a918-6cf06810d179",
   "metadata": {},
   "source": [
    "- The about donut chart depicts the percentage of Movies and TV shows present in Netflix\n",
    "- 69.6% of the total dataset contains Movies while only 30.4% contribute to TV shows"
   ]
  },
  {
   "cell_type": "markdown",
   "id": "8551052f-938e-40be-a0bf-f5fc15ac293c",
   "metadata": {},
   "source": [
    "### Show the trend of content releases over the years."
   ]
  },
  {
   "cell_type": "code",
   "execution_count": 194,
   "id": "819cb7b6-7a79-4831-931a-937e641a12b9",
   "metadata": {},
   "outputs": [
    {
     "data": {
      "image/png": "[encoded data removed]",
      "text/plain": [
       "<Figure size 1200x600 with 1 Axes>"
      ]
     },
     "metadata": {},
     "output_type": "display_data"
    }
   ],
   "source": [
    "plt.figure(figsize=(12, 6))\n",
    "df.groupby('release_year')['show_id'].count().plot(kind='line', marker='o')\n",
    "plt.title('Trend of Content Releases Over the Years')\n",
    "plt.xlabel('Year')\n",
    "plt.ylabel('Number of Releases')\n",
    "plt.grid(True)\n",
    "plt.show()\n"
   ]
  },
  {
   "cell_type": "markdown",
   "id": "28fda4ee-18e7-49a2-9070-4d46df1fcb9e",
   "metadata": {},
   "source": [
    "- The trend shows a dramatic exponential growth, particularly after the year 2000. Before that, the number of releases remained relatively stable and low for several decades\n",
    "- Around 2000-2010, there's a noticeable inflection point where growth begins to accelerate significantly.\n",
    "- The peak appears to be around 2015-2018, reaching approximately 1,150 releases.\n",
    "- After the peak, there's a sharp decline, dropping to around 600 releases by 2020."
   ]
  },
  {
   "cell_type": "code",
   "execution_count": 192,
   "id": "7984b0d7-573e-40bf-ac9d-9edc60637462",
   "metadata": {},
   "outputs": [
    {
     "data": {
      "image/png": "[encoded data removed]",
      "text/plain": [
       "<Figure size 1200x600 with 1 Axes>"
      ]
     },
     "metadata": {},
     "output_type": "display_data"
    }
   ],
   "source": [
    "plt.figure(figsize=(12, 6))\n",
    "releases_per_year = df.groupby('release_year')['show_id'].count()\n",
    "plt.scatter(releases_per_year.index, releases_per_year.values, color='red')\n",
    "plt.title('Scatter of Content Releases Over the Years')\n",
    "plt.xlabel('Year')\n",
    "plt.ylabel('Number of Releases')\n",
    "plt.grid(True)\n",
    "plt.show()"
   ]
  },
  {
   "cell_type": "markdown",
   "id": "007fac43-ff64-417e-8118-679cb682398a",
   "metadata": {},
   "source": [
    "### Visualize the top 10 countries producing the most content."
   ]
  },
  {
   "cell_type": "code",
   "execution_count": 193,
   "id": "35e307dc-c33b-4297-9183-cee738c85a8e",
   "metadata": {},
   "outputs": [
    {
     "data": {
      "image/png": "[encoded data removed]",
      "text/plain": [
       "<Figure size 500x500 with 1 Axes>"
      ]
     },
     "metadata": {},
     "output_type": "display_data"
    }
   ],
   "source": [
    "temp_series = df['country'].value_counts().sort_values(ascending=False).head(10)\n",
    "temp_df = pd.DataFrame(temp_series).reset_index()\n",
    "temp_df.columns = ['country', 'count']\n",
    "\n",
    "sns.relplot(kind='line', data=temp_df, x='country', y='count',marker='o')\n",
    "plt.xticks(rotation=45)\n",
    "\n",
    "for i in range(len(temp_df)):\n",
    "    plt.text(x=i, y=temp_df['count'].iloc[i], s=str(temp_df['count'].iloc[i]), \n",
    "             ha='center', va='bottom', fontsize=10)\n",
    "\n",
    "plt.show()"
   ]
  },
  {
   "cell_type": "markdown",
   "id": "36fd7f99-9957-4ae4-ac68-ea9770c63eb5",
   "metadata": {
    "jp-MarkdownHeadingCollapsed": true
   },
   "source": [
    "- The United States dominates the content production with 2,818 counts, significantly higher than any other country.\n",
    "- India is the second-highest content producer with 972 counts, but that's less than half of the US output.\n",
    "- There's a notable presence of \"Unknown\" category with 831 counts, suggesting data collection or attribution issues.\n",
    "- The distribution follows a steep decline pattern, with a clear gap between the top three (USA, India, Unknown) and the rest.\n",
    "- Among other major countries:\n",
    "-----------------------------------------------------------------------\n",
    "- UK has 419 counts\n",
    "- Japan has 245 counts\n",
    "- South Korea, Canada, Spain, France, and Mexico all have less than 200 counts each\n",
    "- Mexico has the lowest count in this top 10 with 110"
   ]
  },
  {
   "cell_type": "markdown",
   "id": "7665fd58-5937-4f38-964d-92eae8007469",
   "metadata": {},
   "source": [
    "## Conclusion\n",
    "\n",
    "In this analysis of the Netflix movie and series dataset, we explored various aspects of the data, including the distribution of genres, release years, ratings, and other key features. Our findings revealed that:\n",
    "\n",
    "1. **Genre Distribution**: The most common genres on Netflix are drama, comedy, and documentary, with a notable shift in genre popularity over the years.\n",
    "   \n",
    "2. **Content Trends**: There has been an increasing trend in the production of original Netflix content over the last few years, highlighting the company's push for exclusivity and unique offerings.\n",
    "\n",
    "3. **Ratings and Popularity**: Most of the content on Netflix has high ratings, but there is a significant portion of movies and series with no user ratings, which may indicate under-explored or less popular titles.\n",
    "\n",
    "4. **Release Year Trends**: The dataset shows a growing trend of releases in recent years, with a large number of original series and movies being produced in the last 5 years.\n",
    "\n",
    "5. **Content Availability**: Certain regions may have limited access to content, with variations in available movies and series across different countries.\n",
    "\n",
    "In conclusion, this exploratory data analysis gives us valuable insights into Netflix’s content library and the overall trends in movie and series production. Further analyses could involve deeper exploration of user engagement, content recommendations based on genre preferences, or even sentiment analysis of user reviews to gain more actionable insights.\n",
    "\n",
    "Future work could also look into building predictive models for content success based on attributes like genre, cast, release year, and ratings.\n"
   ]
  }
 ],
 "metadata": {
  "kernelspec": {
   "display_name": "Python 3 (ipykernel)",
   "language": "python",
   "name": "python3"
  },
  "language_info": {
   "codemirror_mode": {
    "name": "ipython",
    "version": 3
   },
   "file_extension": ".py",
   "mimetype": "text/x-python",
   "name": "python",
   "nbconvert_exporter": "python",
   "pygments_lexer": "ipython3",
   "version": "3.12.7"
  }
 },
 "nbformat": 4,
 "nbformat_minor": 5
}
